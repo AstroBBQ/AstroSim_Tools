{
 "cells": [
  {
   "cell_type": "code",
   "execution_count": 1,
   "id": "a82d3e05",
   "metadata": {},
   "outputs": [],
   "source": [
    "import OpenEXR\n",
    "import Imath\n",
    "import numpy as np\n",
    "from PIL import Image"
   ]
  },
  {
   "cell_type": "code",
   "execution_count": 10,
   "id": "9d704b9d",
   "metadata": {},
   "outputs": [],
   "source": [
    "def exr_to_image(exr_path, output_path):\n",
    "    \"\"\"\n",
    "    读取EXR文件并将其转换为标准图像格式（如PNG）。\n",
    "\n",
    "    :param exr_path: 输入的.exr文件路径。\n",
    "    :param output_path: 输出的图像文件路径（例如 'output.png'）。\n",
    "    \"\"\"\n",
    "    try:\n",
    "        # 1. 读取EXR文件\n",
    "        exr_file = OpenEXR.InputFile(exr_path)\n",
    "        \n",
    "        # 2. 获取文件头信息\n",
    "        header = exr_file.header()\n",
    "        dw = header['dataWindow']\n",
    "        width = dw.max.x - dw.min.x + 1\n",
    "        height = dw.max.y - dw.min.y + 1\n",
    "\n",
    "        # 3. 获取通道和数据类型\n",
    "        # EXR可以是半浮点(16bit)或单浮点(32bit)\n",
    "        # 我们需要根据文件类型来正确解析\n",
    "        pt = Imath.PixelType(Imath.PixelType.FLOAT) # 假设为32位浮点数\n",
    "        if header['channels']['R'].type == Imath.PixelType(Imath.PixelType.HALF):\n",
    "            pt = Imath.PixelType(Imath.PixelType.HALF) # 如果是16位半浮点数\n",
    "\n",
    "        # 4. 读取RGB通道数据\n",
    "        red_str = exr_file.channel('R', pt)\n",
    "        green_str = exr_file.channel('G', pt)\n",
    "        blue_str = exr_file.channel('B', pt)\n",
    "\n",
    "        # 5. 将字节数据转换为NumPy数组\n",
    "        # 根据数据类型(float16或float32)转换\n",
    "        dtype = np.float16 if pt == Imath.PixelType(Imath.PixelType.HALF) else np.float32\n",
    "        red = np.frombuffer(red_str, dtype=dtype).reshape(height, width)\n",
    "        green = np.frombuffer(green_str, dtype=dtype).reshape(height, width)\n",
    "        blue = np.frombuffer(blue_str, dtype=dtype).reshape(height, width)\n",
    "\n",
    "        # 6. 将三个通道合并成一个RGB图像数组\n",
    "        # 此时图像数据是浮点数，范围可能远大于[0, 1]\n",
    "        hdr_image = np.dstack((red, green, blue))\n",
    "        \n",
    "        # --- HDR到LDR的关键转换步骤 ---\n",
    "        # 7. 色调映射/范围压缩\n",
    "        # 方法A: 简单的线性裁剪 (可能会丢失高光细节)\n",
    "        # ldr_image = np.clip(hdr_image, 0, 1)\n",
    "\n",
    "        # 方法B: 应用Gamma校正 (一种简单的色调映射)\n",
    "        # 这是为了将线性空间的HDR数据转换到sRGB色彩空间\n",
    "        gamma = 2.2\n",
    "        ldr_image = np.power(hdr_image, 1.0/gamma)\n",
    "\n",
    "        # 确保数据仍在0-1范围内\n",
    "        ldr_image = np.clip(ldr_image, 0, 1)\n",
    "\n",
    "        # 8. 将浮点数数组[0, 1]转换为8位整数数组[0, 255]\n",
    "        image_8bit = (ldr_image * 255).astype(np.uint8)\n",
    "\n",
    "        # 9. 使用Pillow保存为PNG或JPG\n",
    "        pil_image = Image.fromarray(image_8bit)\n",
    "        pil_image.save(output_path)\n",
    "        print(f\"成功将 {exr_path} 转换为 {output_path}\")\n",
    "\n",
    "    except Exception as e:\n",
    "        print(f\"处理文件时出错: {e}\")"
   ]
  },
  {
   "cell_type": "code",
   "execution_count": 11,
   "id": "1a5ee927",
   "metadata": {},
   "outputs": [
    {
     "name": "stdout",
     "output_type": "stream",
     "text": [
      "成功将 C:\\Users\\11020\\Downloads\\32k.exr 转换为 C:\\Users\\11020\\Downloads\\32k.jpg\n"
     ]
    }
   ],
   "source": [
    "#exr_to_image('C:\\\\Users\\\\11020\\\\Downloads\\\\32k.exr', 'C:\\\\Users\\\\11020\\\\Downloads\\\\32k.png')\n",
    "exr_to_image('C:\\\\Users\\\\11020\\\\Downloads\\\\32k.exr', 'C:\\\\Users\\\\11020\\\\Downloads\\\\32k.jpg')"
   ]
  },
  {
   "cell_type": "code",
   "execution_count": null,
   "id": "28a97d03",
   "metadata": {},
   "outputs": [],
   "source": []
  }
 ],
 "metadata": {
  "kernelspec": {
   "display_name": "Python 3 (ipykernel)",
   "language": "python",
   "name": "python3"
  },
  "language_info": {
   "codemirror_mode": {
    "name": "ipython",
    "version": 3
   },
   "file_extension": ".py",
   "mimetype": "text/x-python",
   "name": "python",
   "nbconvert_exporter": "python",
   "pygments_lexer": "ipython3",
   "version": "3.11.5"
  },
  "toc": {
   "base_numbering": 1,
   "nav_menu": {},
   "number_sections": true,
   "sideBar": true,
   "skip_h1_title": false,
   "title_cell": "Table of Contents",
   "title_sidebar": "Contents",
   "toc_cell": true,
   "toc_position": {},
   "toc_section_display": true,
   "toc_window_display": false
  }
 },
 "nbformat": 4,
 "nbformat_minor": 5
}
